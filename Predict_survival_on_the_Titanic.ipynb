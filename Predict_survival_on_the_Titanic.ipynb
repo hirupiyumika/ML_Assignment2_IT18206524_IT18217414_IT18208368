{
  "nbformat": 4,
  "nbformat_minor": 0,
  "metadata": {
    "colab": {
      "name": "Predict survival on the Titanic.ipynb",
      "provenance": []
    },
    "kernelspec": {
      "name": "python3",
      "display_name": "Python 3"
    },
    "language_info": {
      "name": "python"
    }
  },
  "cells": [
    {
      "cell_type": "markdown",
      "source": [
        "# **Predict survival on the Titanic**\n"
      ],
      "metadata": {
        "id": "tr8h4pZecTAq"
      }
    },
    {
      "cell_type": "markdown",
      "source": [
        "# **1.   Data Visualization**"
      ],
      "metadata": {
        "id": "pjA53KDaeY3R"
      }
    },
    {
      "cell_type": "markdown",
      "source": [
        "# Import Modules"
      ],
      "metadata": {
        "id": "4OkPFj-hdSOD"
      }
    },
    {
      "cell_type": "code",
      "source": [
        "import pandas as pd\n",
        "import numpy as np\n",
        "import seaborn as sns\n",
        "import matplotlib.pyplot as plt\n",
        "import warnings\n",
        "warnings.filterwarnings('ignore')\n",
        "%matplotlib inline"
      ],
      "metadata": {
        "id": "WT8kUEOKcX3M"
      },
      "execution_count": 1,
      "outputs": []
    }
  ]
}